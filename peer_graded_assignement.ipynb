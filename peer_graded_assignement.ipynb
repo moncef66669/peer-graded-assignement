{
 "cells": [
  {
   "cell_type": "markdown",
   "id": "81753440-deec-4bf3-89c1-fb49dd6f9dee",
   "metadata": {},
   "source": [
    "<h1>My Jupyter Notebook on IBM Watson Studio<h1>"
   ]
  },
  {
   "cell_type": "markdown",
   "id": "94ce134e-5a5a-4488-b305-c340818cea13",
   "metadata": {},
   "source": [
    "__Driouich Moncef__<br>\n",
    "student\n"
   ]
  },
  {
   "cell_type": "markdown",
   "id": "75cbf4be-b1b1-4a47-86af-5d47dd55eb01",
   "metadata": {},
   "source": [
    "_\"I am interested in data science because it's fun\"_"
   ]
  },
  {
   "cell_type": "markdown",
   "id": "6ceb75ec-b51c-42b3-8a7f-a5a05cd1b6b0",
   "metadata": {},
   "source": [
    "<H3>The output of 1+1<H3>"
   ]
  },
  {
   "cell_type": "code",
   "execution_count": 1,
   "id": "7f259eaf-abd4-4022-ace6-d93aa37f7fc8",
   "metadata": {},
   "outputs": [
    {
     "data": {
      "text/plain": [
       "2"
      ]
     },
     "execution_count": 1,
     "metadata": {},
     "output_type": "execute_result"
    }
   ],
   "source": [
    "1+1"
   ]
  },
  {
   "cell_type": "markdown",
   "id": "023825eb-5c99-424b-a8e9-5eae6f76805c",
   "metadata": {},
   "source": [
    "  cell 6\n",
    "***\n",
    "\n",
    "- text 1\n",
    "- text 2\n",
    "| conlumn 1 | conlumn 1 | conlumn 3 |\n",
    "| --- | --- | --- |\n",
    "| test1 | test2 | test3 |\n",
    "| test4 | test5 | test6 |"
   ]
  }
 ],
 "metadata": {
  "kernelspec": {
   "display_name": "Python 3 (ipykernel)",
   "language": "python",
   "name": "python3"
  },
  "language_info": {
   "codemirror_mode": {
    "name": "ipython",
    "version": 3
   },
   "file_extension": ".py",
   "mimetype": "text/x-python",
   "name": "python",
   "nbconvert_exporter": "python",
   "pygments_lexer": "ipython3",
   "version": "3.10.5"
  }
 },
 "nbformat": 4,
 "nbformat_minor": 5
}
